{
  "nbformat": 4,
  "nbformat_minor": 0,
  "metadata": {
    "colab": {
      "provenance": []
    },
    "kernelspec": {
      "name": "python3",
      "display_name": "Python 3"
    },
    "language_info": {
      "name": "python"
    }
  },
  "cells": [
    {
      "cell_type": "markdown",
      "source": [
        "#                                  **PYTHON**\n",
        "\n"
      ],
      "metadata": {
        "id": "QxHJiHnuEcBD"
      }
    },
    {
      "cell_type": "markdown",
      "source": [
        "\n",
        "\n",
        "1. What is Python, and why is it popular?\n",
        "   - Python is a high-level, versatile, and general-purpose programming language known for its readability and ease of use.It's popular for web development, data science, machine learning, automation, and more. It works on front-end and back-end parts. Its popularity from its clear syntax, extensive libraries, and large, active community. It has large standard library ecosystem. Python is commonly used for website and software development, task automation, data analysis, and data visualisation.\n",
        "\n",
        "\n",
        "2. What is an interpreter in Python?\n",
        "   - A Python interpreter is a program that reads and executes Python code. Unlike compiled languages, where the entire code is translated into machine code before execution, Python is an interpreted language. This means the interpreter processes the code in real-time, line by line. The interpreter first breaks down the Python source code into a stream of tokens, which are the smallest meaningful units of the program (e.g., keywords, operators, identifiers).\n",
        "\n",
        "\n",
        "3.  What are pre-defined keywords in Python?\n",
        "    - Predefined keywords in Python are reserved words that hold special meaning and functionality within the language. These words are integral to Python's syntax and structure and cannot be used as identifiers (e.g., variable names, function names, class names) by the programmer.They can't be used as identifiers in your program unless they include @ as a prefix. For example, @if is a valid identifier, but if isn't because if is a keyword.\n",
        "\n",
        "\n",
        "4. Can keywords be used as variable names?\n",
        "   - No, keywords cannot be used as variable names. Keywords are reserved words in a programming language that have predefined meanings and are used to define the language's syntax and structure. Using them as variable names would lead to syntax errors.\n",
        "\n",
        "\n",
        "5. What is mutability in Python?\n",
        "   - Objects or containers whose state or value can be changed after they are created are called as Mutable objects or containers. Also known as assignments.\n",
        "   List is a type of mutable object. If an object is mutable, its internal state or value can be changed without creating a new object in memory.\n",
        "\n",
        "\n",
        "6.  Why are lists mutable, but tuples are immutable?\n",
        "    - Lists are called mutable objects because it can be changed and tuples are called immutable because it cannot be changed. You can change the order of items in a list or reassign an item in a list.\n",
        "\n",
        "\n",
        "7. What is the difference between “==” and “is” operators in Python?\n",
        "  -  == compares values; is compares memory addresses (identity).\n",
        "  - == (Equality Operator):\n",
        "  This operator compares the values of two objects. It checks if the content or state of the objects is the same. For example, if you have two lists with the same elements in the same order, list1 == list2 would evaluate to True, even if they are different objects in memory.\n",
        "  - is (Identity Operator):\n",
        "  This operator compares the identity of two objects. It checks if two variables or expressions refer to the exact same object in memory. In other words, object1 is object2 evaluates to True only if object1 and object2 point to the same memory location.\n",
        "\n",
        "\n",
        "8. What are logical operators in python?\n",
        "  - Logical operators in Python are used to combine conditional statements and evaluate expressions based on their truth values (True or False). They are crucial for creating complex decision-making logic within programs. Python provides three primary logical operators:\n",
        "  - and (Logical AND):\n",
        "  This operator returns True only if both of its operands are True.\n",
        "  - If either or both operands are False, the and operator returns False.\n",
        "  Example: (5 > 3) and (10 < 20) evaluates to True.\n",
        "  - or (Logical OR):\n",
        "  This operator returns True if at least one of its operands is True.\n",
        "  It returns False only if both operands are False.\n",
        "  Example: (5 > 10) or (10 < 20) evaluates to True.\n",
        "  - not (Logical NOT):\n",
        "  This is a unary operator, meaning it operates on a single operand.\n",
        "  It negates the truth value of its operand. If the operand is True, not returns False, and if the operand is False, not returns True.\n",
        "  Example: not (5 > 10) evaluates to True.\n",
        "  - These operators are frequently used in if statements, while loops, and other control flow structures to control program execution based on multiple conditions.\n",
        "\n",
        "\n",
        "9. What is type casting in Python?\n",
        "   - Type casting in Python, also known as type conversion, is the process of converting a value from one data type to another. This is a fundamental concept in programming, allowing for flexibility and compatibility when performing operations that require specific data types.\n",
        "   Type casting is essential for tasks such as:\n",
        "   - Ensuring correct data types for arithmetic or other operations.\n",
        "   - Formatting data for output (e.g., converting numbers to strings for display).\n",
        "   - Handling user input, which is often received as strings and needs conversion for calculations.\n",
        "   - int(): Converts a value to an integer.\n",
        "   - float(): Converts a value to a floating-point number.\n",
        "   - str(): Converts a value to a string.\n",
        "   - tuple(): Converts an iterable (like a string or list) to a tuple.\n",
        "\n",
        "\n",
        "10.  What is the difference between implicit and explicit type casting?\n",
        "     - Implicit Type Conversion (Coercion): This occurs automatically when Python converts one data type to another without explicit instruction from the programmer. This often happens in expressions involving different numeric types, where Python promotes the \"smaller\" type to the \"larger\" type to prevent data loss. For example, when an integer is added to a float, the integer is implicitly converted to a float before the addition.\n",
        "     -num_int = 10\n",
        "     -num_float = 5.5\n",
        "     -result = num_int + num_float # num_int is implicitly converted to float\n",
        "     -print(result) # Output: 15.5\n",
        "     -print(type(result)) # Output: <class 'float'>\n",
        "\n",
        "     - Explicit Type Conversion (Type Casting): This requires the programmer to explicitly convert a value from one data type to another using built-in functions. Common functions for explicit type casting include:\n",
        "     - int(): Converts a value to an integer.\n",
        "     - float(): Converts a value to a floating-point number.\n",
        "     - str(): Converts a value to a string.\n",
        "     - list(): Converts an iterable (like a string or tuple) to a list.\n",
        "     - tuple(): Converts an iterable (like a string or list) to a tuple.\n",
        "\n",
        "\n",
        "11.  What is the purpose of conditional statements in Python?\n",
        "     - The purpose of conditional statements in Python is to control the flow of execution in a program based on whether certain conditions are met. These statements allow a program to make decisions and perform different actions depending on the outcome of a logical evaluation.\n",
        "     Essentially, conditional statements enable:\n",
        "     - Decision-making.\n",
        "     - Branching.\n",
        "     - Error handling and validation.\n",
        "     - The primary conditional statements in Python are if, if-else, if-elif-else.\n",
        "\n",
        "\n",
        "12.  How does the elif statement work?\n",
        "     - elif checks (if 'if' is False):\n",
        "     If the 'if' condition is False, the program then proceeds to evaluate the condition of the first elif statement.\n",
        "     If this elif condition is True, its corresponding code block is executed, and the entire if-elif-else block is exited.\n",
        "     If this elif condition is False, the program moves to the next elif statement (if any) and repeats the evaluation process.\n",
        "\n",
        "\n",
        "13.  What is the difference between for and while loops?\n",
        "    - for loop:\n",
        "      for loops typically include initialization, a condition, and an increment/decrement step within the loop's structure.\n",
        "      Usage:\n",
        "      Ideal when you need to iterate a specific number of times, such as looping through an array or a predefined range of numbers.\n",
        "      Example:\n",
        "      for (let i = 0; i < 10; i++) { ... } iterates 10 times, incrementing i each time.\n",
        "    - while loop:\n",
        "      while loops only have a condition. The loop continues as long as the condition remains true.\n",
        "      Usage:\n",
        "      Suitable when the number of iterations is uncertain and depends on a condition that may change during execution.\n",
        "      Example:\n",
        "      while (count < 10) { ... count++; } continues as long as the count variable is less than 10.\n",
        "\n",
        "\n",
        "14.  Describe a scenario where a while loop is more suitable than a for loop.\n",
        "     - A while loop is more suitable than a for loop when the number of iterations is unknown and depends on a dynamic condition that changes within the loop's execution.\n",
        "\n"
      ],
      "metadata": {
        "id": "dxPENfjDE9dI"
      }
    },
    {
      "cell_type": "markdown",
      "source": [
        "**PYTHON PRACTICAL ANSWERS**"
      ],
      "metadata": {
        "id": "eK1bxPjJV6a8"
      }
    },
    {
      "cell_type": "code",
      "source": [
        "#1. Write a Python program to print \"Hello, World!\n",
        "print (\"Hello World\")"
      ],
      "metadata": {
        "colab": {
          "base_uri": "https://localhost:8080/"
        },
        "id": "RUv1owGRXc3c",
        "outputId": "a70b1e94-bf5a-4415-c0b1-861654c8b36d"
      },
      "execution_count": 12,
      "outputs": [
        {
          "output_type": "stream",
          "name": "stdout",
          "text": [
            "Hello World\n"
          ]
        }
      ]
    },
    {
      "cell_type": "code",
      "source": [
        "#2. Write a Python program that displays your name and age.\n",
        "name = input(\"Enter your name: \")\n",
        "age = int(input(\"Enter your age: \"))\n",
        "print (f\"Hello, my name is {name} and I am {age} years old.\")"
      ],
      "metadata": {
        "colab": {
          "base_uri": "https://localhost:8080/"
        },
        "id": "rGH3IS7DX6hP",
        "outputId": "403d1827-b665-4673-906d-161e87d673b8"
      },
      "execution_count": 13,
      "outputs": [
        {
          "output_type": "stream",
          "name": "stdout",
          "text": [
            "Enter your name: Saaransh\n",
            "Enter your age: 29\n",
            "Hello, my name is Saaransh and I am 29 years old.\n"
          ]
        }
      ]
    },
    {
      "cell_type": "code",
      "source": [
        "#3.  Write code to print all the pre-defined keywords in Python using the keyword library.\n",
        "import keyword\n",
        "\n",
        "print(keyword.kwlist)"
      ],
      "metadata": {
        "colab": {
          "base_uri": "https://localhost:8080/"
        },
        "id": "TZLsXBwd5CBx",
        "outputId": "a085efde-b484-484d-af9f-3e81861b9280"
      },
      "execution_count": 11,
      "outputs": [
        {
          "output_type": "stream",
          "name": "stdout",
          "text": [
            "['False', 'None', 'True', 'and', 'as', 'assert', 'async', 'await', 'break', 'class', 'continue', 'def', 'del', 'elif', 'else', 'except', 'finally', 'for', 'from', 'global', 'if', 'import', 'in', 'is', 'lambda', 'nonlocal', 'not', 'or', 'pass', 'raise', 'return', 'try', 'while', 'with', 'yield']\n"
          ]
        }
      ]
    },
    {
      "cell_type": "code",
      "source": [
        "#4. Write a program that checks if a given word is a Python keyword.\n",
        "word_to_check = input(\"Enter a word to check: \")\n",
        "\n",
        "if is_python_keyword(word_to_check):\n",
        "  print(f\"'{word_to_check}' is a Python keyword.\")\n",
        "else:\n",
        "  print(f\"'{word_to_check}' is not a Python keyword.\")"
      ],
      "metadata": {
        "id": "MdoQsrVc9Lcx"
      },
      "execution_count": 18,
      "outputs": []
    },
    {
      "cell_type": "code",
      "source": [
        "#5.  Create a list and tuple in Python, and demonstrate how attempting to change an element works differently for each.\n",
        "my_list = [10, 20, 30, 40]\n",
        "print(f\"Original list: {my_list}\")\n",
        "my_list[1] = 25\n",
        "print(f\"Modified list: {my_list}\")"
      ],
      "metadata": {
        "colab": {
          "base_uri": "https://localhost:8080/"
        },
        "id": "JDm8_Bsf_c_4",
        "outputId": "48711264-9716-43dd-d534-1a8a12920940"
      },
      "execution_count": 21,
      "outputs": [
        {
          "output_type": "stream",
          "name": "stdout",
          "text": [
            "Original list: [10, 20, 30, 40]\n",
            "Modified list: [10, 25, 30, 40]\n"
          ]
        }
      ]
    },
    {
      "cell_type": "code",
      "source": [
        "#6.  Write a function to demonstrate the behavior of mutable and immutable arguments.\n",
        "\n",
        "def demonstrate_mutable_argument(my_list):\n",
        "  \"\"\"Demonstrates the behavior of a mutable argument (list).\"\"\"\n",
        "  print(f\"Inside function: Before modification, list ID: {id(my_list)}\")\n",
        "  print(f\"Inside function: Before modification, list content: {my_list}\")\n",
        "  my_list.append(4)  # Modify the list in place\n",
        "  print(f\"Inside function: After modification, list ID: {id(my_list)}\")\n",
        "  print(f\"Inside function: After modification, list content: {my_list}\")\n",
        "\n",
        "# Demonstrate with a mutable argument (list)\n",
        "my_list = [1, 2, 3]\n",
        "print(f\"Outside function: Original list ID: {id(my_list)}\")\n",
        "print(f\"Outside function: Original list content: {my_list}\")\n",
        "demonstrate_mutable_argument(my_list)\n",
        "print(f\"Outside function: After function call, list ID: {id(my_list)}\")\n",
        "print(f\"Outside function: After function call, list content: {my_list}\\n\")\n",
        "\n",
        "# You would need a separate example to demonstrate immutable arguments (like integers, strings, tuples)\n",
        "# as modifying them inside a function creates a new object, not changing the original."
      ],
      "metadata": {
        "colab": {
          "base_uri": "https://localhost:8080/"
        },
        "outputId": "1ad6f792-9b34-4b90-c4a2-b5be3b271418",
        "id": "c9zvRQCbBoPX"
      },
      "execution_count": 29,
      "outputs": [
        {
          "output_type": "stream",
          "name": "stdout",
          "text": [
            "Outside function: Original list ID: 140313105483584\n",
            "Outside function: Original list content: [1, 2, 3]\n",
            "Inside function: Before modification, list ID: 140313105483584\n",
            "Inside function: Before modification, list content: [1, 2, 3]\n",
            "Inside function: After modification, list ID: 140313105483584\n",
            "Inside function: After modification, list content: [1, 2, 3, 4]\n",
            "Outside function: After function call, list ID: 140313105483584\n",
            "Outside function: After function call, list content: [1, 2, 3, 4]\n",
            "\n"
          ]
        }
      ]
    },
    {
      "cell_type": "code",
      "source": [
        "#7.  Write a program that performs basic arithmetic operations on two user-input numbers.\n",
        "def perform_arithmetic_operations():\n",
        "    \"\"\"\n",
        "    Prompts the user for two numbers and performs basic arithmetic operations.\n",
        "    \"\"\"\n",
        "    try:\n",
        "        num1 = float(input(\"Enter the first number: \"))\n",
        "        num2 = float(input(\"Enter the second number: \"))\n",
        "    except ValueError:\n",
        "        print(\"Invalid input. Please enter numeric values.\")\n",
        "        return\n",
        "\n",
        "    print(f\"\\nResults for {num1} and {num2}:\")\n",
        "    print(f\"Addition: {num1 + num2}\")\n",
        "    print(f\"Subtraction: {num1 - num2}\")\n",
        "    print(f\"Multiplication: {num1 * num2}\")\n",
        "\n",
        "    if num2 != 0:\n",
        "        print(f\"Division: {num1 / num2}\")\n",
        "    else:\n",
        "        print(\"Division by zero is not allowed.\")\n",
        "\n",
        "if __name__ == \"__main__\":\n",
        "    perform_arithmetic_operations()"
      ],
      "metadata": {
        "colab": {
          "base_uri": "https://localhost:8080/"
        },
        "id": "Dh6WMlqgCZSi",
        "outputId": "eb866f04-3d81-4940-bfbd-48e824aac894"
      },
      "execution_count": 33,
      "outputs": [
        {
          "output_type": "stream",
          "name": "stdout",
          "text": [
            "Enter the first number: 5\n",
            "Enter the second number: 4\n",
            "\n",
            "Results for 5.0 and 4.0:\n",
            "Addition: 9.0\n",
            "Subtraction: 1.0\n",
            "Multiplication: 20.0\n",
            "Division: 1.25\n"
          ]
        }
      ]
    },
    {
      "cell_type": "code",
      "source": [
        "#8. Write a program to demonstrate the use of logical operators.\n",
        "age = 25\n",
        "has_license = True\n",
        "is_drunk = False\n",
        "print(\"--- Demonstrating 'and' operator ---\")\n",
        "if age >= 18 and has_license:\n",
        "    print(\"User is an adult and has a license.\")\n",
        "else:\n",
        "    print(\"User is either not an adult or does not have a license.\")\n",
        "    print(\"\\n--- Demonstrating 'or' operator ---\")\n",
        "if age < 18 or not has_license:\n",
        "    print(\"User is either a minor or does not have a license.\")\n",
        "else:\n",
        "    print(\"User is an adult with a license.\")\n",
        "    print(\"\\n--- Demonstrating 'not' operator ---\")\n",
        "if not is_drunk:\n",
        "    print(\"User is not drunk.\")\n",
        "else:\n",
        "    print(\"User is drunk.\")\n",
        "    print(\"\\n--- Combining logical operators ---\")\n",
        "if (age >= 18 and has_license) and not is_drunk:\n",
        "    print(\"User is eligible to drive legally.\")\n",
        "else:\n",
        "    print(\"User is not eligible to drive legally under these conditions.\")"
      ],
      "metadata": {
        "colab": {
          "base_uri": "https://localhost:8080/"
        },
        "id": "gp_GhvfMDFAc",
        "outputId": "b3c0b15a-7ef2-48e4-e40b-2888890096ba"
      },
      "execution_count": 35,
      "outputs": [
        {
          "output_type": "stream",
          "name": "stdout",
          "text": [
            "--- Demonstrating 'and' operator ---\n",
            "User is an adult and has a license.\n",
            "User is an adult with a license.\n",
            "\n",
            "--- Demonstrating 'not' operator ---\n",
            "User is not drunk.\n",
            "User is eligible to drive legally.\n"
          ]
        }
      ]
    },
    {
      "cell_type": "code",
      "source": [
        "#9.  Write a Python program to convert user input from string to integer, float, and boolean types.\n",
        "def convert_input_types():\n",
        "    \"\"\"\n",
        "    Prompts the user for input and attempts to convert it to integer, float,\n",
        "    and boolean types, handling potential errors.\n",
        "    \"\"\"\n",
        "    user_string = input(\"Enter a value: \")\n",
        "    try:\n",
        "        integer_value = int(user_string)\n",
        "        print(f\"Converted to Integer: {integer_value} (Type: {type(integer_value)})\")\n",
        "    except ValueError:\n",
        "        print(f\"Could not convert '{user_string}' to Integer.\")\n",
        "        try:\n",
        "            float_value = float(user_string)\n",
        "            print(f\"Converted to Float: {float_value} (Type: {type(float_value)})\")\n",
        "        except ValueError:\n",
        "            print(f\"Could not convert '{user_string}' to Float.\")\n",
        "\n",
        "    boolean_value = None\n",
        "    if user_string.lower() == 'true':\n",
        "        boolean_value = True\n",
        "    elif user_string.lower() == 'false':\n",
        "        boolean_value = False\n",
        "\n",
        "    if boolean_value is not None:\n",
        "        print(f\"Converted to Boolean: {boolean_value} (Type: {type(boolean_value)})\")\n",
        "    else:\n",
        "        print(f\"Could not convert '{user_string}' to Boolean (expected 'True' or 'False').\")\n",
        "\n",
        "convert_input_types()"
      ],
      "metadata": {
        "colab": {
          "base_uri": "https://localhost:8080/"
        },
        "id": "DU5hIHvaEKvC",
        "outputId": "1d7fa97c-0d5e-4913-a0c8-e02ace91c33a"
      },
      "execution_count": 48,
      "outputs": [
        {
          "output_type": "stream",
          "name": "stdout",
          "text": [
            "Enter a value: 5\n",
            "Converted to Integer: 5 (Type: <class 'int'>)\n",
            "Could not convert '5' to Boolean (expected 'True' or 'False').\n"
          ]
        }
      ]
    },
    {
      "cell_type": "code",
      "source": [
        "#10.  Write code to demonstrate type casting with list elements.\n",
        "original_list = ['10', '20', 30.5, '40', 50]\n",
        "integer_list = [int(float(item)) if isinstance(item, str) else int(item) for item in original_list]\n",
        "print(f\"Original list: {original_list}\")\n",
        "print(f\"List after casting to integers: {integer_list}\")"
      ],
      "metadata": {
        "colab": {
          "base_uri": "https://localhost:8080/"
        },
        "id": "IxnpCsQYGMIv",
        "outputId": "d71eec6f-eea6-4be0-b3f9-1d91aacdf2f0"
      },
      "execution_count": 50,
      "outputs": [
        {
          "output_type": "stream",
          "name": "stdout",
          "text": [
            "Original list: ['10', '20', 30.5, '40', 50]\n",
            "List after casting to integers: [10, 20, 30, 40, 50]\n"
          ]
        }
      ]
    },
    {
      "cell_type": "code",
      "source": [
        "#11. Write a program that checks if a number is positive, negative, or zero.\n",
        "def check_number_sign(number):\n",
        "  \"\"\"\n",
        "  Checks if a given number is positive, negative, or zero.\n",
        "\n",
        "  Args:\n",
        "    number: The number to be checked.\n",
        "\n",
        "  Returns:\n",
        "    A string indicating whether the number is \"Positive\", \"Negative\", or \"Zero\".\n",
        "  \"\"\"\n",
        "  if number > 0:\n",
        "    return \"Positive\"\n",
        "  elif number < 0:\n",
        "    return \"Negative\"\n",
        "  else:\n",
        "    return \"Zero\"\n",
        "\n",
        "num1 = 10\n",
        "num2 = -5\n",
        "num3 = 0\n",
        "\n",
        "print(f\"The number {num1} is: {check_number_sign(num1)}\")\n",
        "print(f\"The number {num2} is: {check_number_sign(num2)}\")\n",
        "print(f\"The number {num3} is: {check_number_sign(num3)}\")"
      ],
      "metadata": {
        "colab": {
          "base_uri": "https://localhost:8080/"
        },
        "id": "1amGjecfGrlF",
        "outputId": "b710682c-8d16-4af1-d621-c985398a4294"
      },
      "execution_count": 59,
      "outputs": [
        {
          "output_type": "stream",
          "name": "stdout",
          "text": [
            "The number 10 is: Positive\n",
            "The number -5 is: Negative\n",
            "The number 0 is: Zero\n"
          ]
        }
      ]
    },
    {
      "cell_type": "code",
      "source": [
        "#12. Write a for loop to print numbers from 1 to 10.\n",
        "for i in range(1,11):\n",
        "  print(i)"
      ],
      "metadata": {
        "colab": {
          "base_uri": "https://localhost:8080/"
        },
        "id": "aG1Tj9_rHZB7",
        "outputId": "9dfd8596-7c51-4a98-fdb9-b22dd8813b1b"
      },
      "execution_count": 61,
      "outputs": [
        {
          "output_type": "stream",
          "name": "stdout",
          "text": [
            "1\n",
            "2\n",
            "3\n",
            "4\n",
            "5\n",
            "6\n",
            "7\n",
            "8\n",
            "9\n",
            "10\n"
          ]
        }
      ]
    },
    {
      "cell_type": "code",
      "source": [
        "#13. Write a Python program to find the sum of all even numbers between 1 and 50.\n",
        "total_sum = 0\n",
        "for numbers in range(1,51):\n",
        "  if number % 2 == 0:\n",
        "    total_sum += number\n",
        "   print(f\"The sum of all even numbers between 1 and 50 is: {total_sum}\")\n"
      ],
      "metadata": {
        "colab": {
          "base_uri": "https://localhost:8080/"
        },
        "id": "tcdb2CfqIGN2",
        "outputId": "21c0d56c-740b-4be7-a4c3-c6aaab9fac12"
      },
      "execution_count": 69,
      "outputs": [
        {
          "output_type": "stream",
          "name": "stdout",
          "text": [
            "The sum of all even numbers between 1 and 50 is: 650\n"
          ]
        }
      ]
    },
    {
      "cell_type": "code",
      "source": [
        "#14. Write a program to reverse a string using a while loop.\n",
        "def reverse_string_while_loop(input_string):\n",
        "    \"\"\"\n",
        "    Reverses a given string using a while loop.\n",
        "\n",
        "    Args:\n",
        "        input_string: The string to be reversed.\n",
        "\n",
        "    Returns:\n",
        "        The reversed string.\n",
        "    \"\"\"\n",
        "    reversed_string = \"\"\n",
        "    index = len(input_string) - 1\n",
        "    while index >= 0:\n",
        "        reversed_string += input_string[index]\n",
        "        index -= 1\n",
        "\n",
        "    return reversed_string\n",
        "\n",
        "original_str = \"Hello World\"\n",
        "reversed_str = reverse_string_while_loop(original_str)\n",
        "print(f\"Original string: {original_str}\")\n",
        "print(f\"Reversed string: {reversed_str}\")\n",
        "\n",
        "original_str_2 = \"Python\"\n",
        "reversed_str_2 = reverse_string_while_loop(original_str_2)\n",
        "print(f\"Original string: {original_str_2}\")\n",
        "print(f\"Reversed string: {reversed_str_2}\")"
      ],
      "metadata": {
        "colab": {
          "base_uri": "https://localhost:8080/"
        },
        "id": "Hnj89znwJopd",
        "outputId": "16dba899-dc5e-4299-87db-8039b8eb8942"
      },
      "execution_count": 74,
      "outputs": [
        {
          "output_type": "stream",
          "name": "stdout",
          "text": [
            "Original string: Hello World\n",
            "Reversed string: dlroW olleH\n",
            "Original string: Python\n",
            "Reversed string: nohtyP\n"
          ]
        }
      ]
    },
    {
      "cell_type": "code",
      "source": [
        "#15. Write a Python program to calculate the factorial of a number provided by the user using a while loop\n",
        "def calculate_factorial(number):\n",
        "    \"\"\"\n",
        "    Calculates the factorial of a non-negative integer using a while loop.\n",
        "\n",
        "    Args:\n",
        "        number: The non-negative integer for which to calculate the factorial.\n",
        "\n",
        "    Returns:\n",
        "        The factorial of the number, or an error message if the number is negative.\n",
        "    \"\"\"\n",
        "    if number < 0:\n",
        "        return \"Factorial is not defined for negative numbers.\"\n",
        "    elif number == 0:\n",
        "        return 1\n",
        "    else:\n",
        "        factorial = 1\n",
        "        i = 1\n",
        "        while i <= number:\n",
        "            factorial *= i\n",
        "            i += 1\n",
        "        return factorial\n",
        "        try:\n",
        "    num = int(input(\"Enter a non-negative integer: \"))\n",
        "    result = calculate_factorial(num)\n",
        "    print(f\"The factorial of {num} is: {result}\")\n",
        "    except ValueError:\n",
        "    print(\"Invalid input. Please enter an integer.\")"
      ],
      "metadata": {
        "colab": {
          "base_uri": "https://localhost:8080/",
          "height": 106
        },
        "id": "Iei7KbKXKZYU",
        "outputId": "23d8d81f-361e-4143-dca0-f7c909e058c5"
      },
      "execution_count": 85,
      "outputs": [
        {
          "output_type": "error",
          "ename": "IndentationError",
          "evalue": "expected an indented block after 'try' statement on line 23 (ipython-input-788016251.py, line 24)",
          "traceback": [
            "\u001b[0;36m  File \u001b[0;32m\"/tmp/ipython-input-788016251.py\"\u001b[0;36m, line \u001b[0;32m24\u001b[0m\n\u001b[0;31m    num = int(input(\"Enter a non-negative integer:\"))\u001b[0m\n\u001b[0m    ^\u001b[0m\n\u001b[0;31mIndentationError\u001b[0m\u001b[0;31m:\u001b[0m expected an indented block after 'try' statement on line 23\n"
          ]
        }
      ]
    }
  ]
}